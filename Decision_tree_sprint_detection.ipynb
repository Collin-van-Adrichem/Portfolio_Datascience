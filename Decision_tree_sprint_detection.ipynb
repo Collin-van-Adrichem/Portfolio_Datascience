{
 "cells": [
  {
   "cell_type": "markdown",
   "id": "3b5b9306",
   "metadata": {},
   "source": [
    "# Libraries\n",
    "\n",
    "Import your libraries"
   ]
  },
  {
   "cell_type": "code",
   "execution_count": 31,
   "id": "6767672b",
   "metadata": {},
   "outputs": [],
   "source": [
    "import numpy as np\n",
    "import pandas as pd\n",
    "import statistics as cal\n",
    "import matplotlib.pyplot as plt\n",
    "from sklearn.model_selection import train_test_split\n",
    "from sklearn.model_selection import GridSearchCV\n",
    "from sklearn.svm import SVC\n",
    "from sklearn.tree import DecisionTreeClassifier\n",
    "from sklearn.neighbors import KNeighborsClassifier\n",
    "from sklearn.metrics import accuracy_score, f1_score, precision_score, recall_score, classification_report, plot_confusion_matrix, confusion_matrix"
   ]
  },
  {
   "cell_type": "markdown",
   "id": "1a9e9f42",
   "metadata": {},
   "source": [
    "# Importing Data\n",
    "\n",
    "Import the CSV file with Actions, Sum and Div as a Dataframe called df. Fill the empty values of Action with 0. \n",
    "Replace NaN values with 0. Delete first 100 rows. "
   ]
  },
  {
   "cell_type": "code",
   "execution_count": 32,
   "id": "1e06fbe8",
   "metadata": {},
   "outputs": [
    {
     "name": "stderr",
     "output_type": "stream",
     "text": [
      "/tmp/ipykernel_16843/2448043580.py:12: SettingWithCopyWarning: \n",
      "A value is trying to be set on a copy of a slice from a DataFrame\n",
      "\n",
      "See the caveats in the documentation: https://pandas.pydata.org/pandas-docs/stable/user_guide/indexing.html#returning-a-view-versus-a-copy\n",
      "  df.Action[df.Action == \"Sprinting\"] = 1\n"
     ]
    }
   ],
   "source": [
    "#load in df\n",
    "Player = 15\n",
    "Game = 2\n",
    "\n",
    "df = pd.read_csv('matrix_Player_' + str(Player) + '_game_' + str(Game) + '_Processed_Action.csv')\n",
    "\n",
    "# Fill NaN with 0\n",
    "df.replace([np.inf, -np.inf], np.nan, inplace=True)\n",
    "df = df.fillna(0)\n",
    "\n",
    "#Convert Sprinting to 1\n",
    "df.Action[df.Action == \"Sprinting\"] = 1\n",
    "\n",
    "#Delete first 99 rows, so df starts at timeLine == 1.00\n",
    "df = df.iloc[99: , :]"
   ]
  },
  {
   "cell_type": "markdown",
   "id": "9b053ddc",
   "metadata": {},
   "source": [
    "# Preparing Data\n",
    "\n",
    "Split the Dataframe in chunks van n/100 seconden. Combine to 1 dataframe. With Sum,Div and Action split into Train and Valid/Test. "
   ]
  },
  {
   "cell_type": "code",
   "execution_count": 33,
   "id": "2bba59ef",
   "metadata": {},
   "outputs": [],
   "source": [
    "#Convert data into chunks of a second\n",
    "n = 100 #chunk size (100 datapoints in one second)\n",
    "chunks = [df[i:i+n] for i in range(0,df.shape[0],n)]\n",
    "#Set chunks into dataframe\n",
    "#for chunk in chunks:\n",
    "frames = []\n",
    "for chunk in chunks:\n",
    "    P = pd.DataFrame({'Frames':[chunk['Unnamed: 0'].tolist()], 'frAcc':[max(chunk['frAcc'].tolist())],\n",
    "                      'frRoAcc':[chunk['frRoAcc'].tolist()], 'frDispl':[chunk['frDispl'].tolist()],\n",
    "                      'frRoAng':[cal.mean(chunk['frRoAng'].tolist())], 'frSpeed':[cal.mean((chunk['frSpeed']**2).tolist())],\n",
    "                      'timeLine':[max(chunk['timeLine'].tolist())], 'frameRotationalSpeedX':[chunk['frameRotationalSpeedX'].tolist()],\n",
    "                      'frameRotationalSpeedY':[chunk['frameRotationalSpeedY'].tolist()], 'frameRotationalSpeedZ':[max((chunk['frameRotationalSpeedZ']**2).tolist())],\n",
    "                      'wheelRotationalSpeedX':[cal.mean((chunk['wheelRotationalSpeedX']**2).tolist())], 'wheelRotationalSpeedY':[chunk['wheelRotationalSpeedY'].tolist()],\n",
    "                      'wheelRotationalSpeedZ':[chunk['wheelRotationalSpeedZ'].tolist()], 'frRoSpeed':[max(chunk['frRoSpeed'].tolist())],\n",
    "                      'Sum_WheelX_FrameZ':[cal.mean((chunk['Sum_WheelX_FrameZ']**2).tolist())], 'Div_FrameZ_WheelX':[cal.mean((chunk['Div_FrameZ_WheelX']**2).tolist())],\n",
    "                      'Filt_WheelX':[cal.mean((chunk['Filt_WheelX']**2).tolist())], 'Filt_FrameZ':[max(chunk['Filt_FrameZ'].tolist())],\n",
    "                      'Action':[round(cal.mean(chunk['Action'].tolist()))]})\n",
    "    frames.append(P)\n",
    "\n",
    "\n",
    "\n",
    "df = pd.concat(frames,ignore_index=True)\n",
    "\n",
    "\n",
    "\n",
    "# important variables for sprinting\n",
    "#speed\n",
    "#acceleration\n",
    "#straight line"
   ]
  },
  {
   "cell_type": "code",
   "execution_count": 34,
   "id": "896eaead",
   "metadata": {},
   "outputs": [],
   "source": [
    "df['Diff'] = np.insert(np.diff(df.Filt_WheelX,n=1),0,0)\n",
    "\n"
   ]
  },
  {
   "cell_type": "code",
   "execution_count": 35,
   "id": "5211e609",
   "metadata": {},
   "outputs": [],
   "source": [
    "# split chunk data into train test validate (with colum [sum and Div] as input, and action as output)\n",
    "#try out different combinations of features in order to find the most effective one for this application.\n",
    "X_train, X_test, y_train, y_test = train_test_split(df[[\n",
    "                                                        'frAcc',\n",
    "                                                        'frSpeed',\n",
    "                                                        'frameRotationalSpeedZ',\n",
    "                                                       # 'frRoAng',\n",
    "                                                        'Sum_WheelX_FrameZ',\n",
    "                                                        #'Div_FrameZ_WheelX',\n",
    "                                                        #'wheelRotationalSpeedX',\n",
    "                                                       # 'Filt_FrameZ',\n",
    "                                                        #'Filt_WheelX',\n",
    "                                                        'Diff'\n",
    "                                                        ]],\n",
    "                                                    df.Action, test_size = 0.2, random_state=42)"
   ]
  },
  {
   "cell_type": "markdown",
   "id": "3800e3f9",
   "metadata": {},
   "source": [
    "# Fitting Model\n",
    "\n",
    "Choose a classification model. Train model with Training data."
   ]
  },
  {
   "cell_type": "code",
   "execution_count": 36,
   "id": "0712a43a",
   "metadata": {
    "scrolled": true
   },
   "outputs": [
    {
     "data": {
      "text/plain": [
       "DecisionTreeClassifier(class_weight='balanced', max_depth=2, max_features=0.4,\n",
       "                       min_samples_leaf=0.04, random_state=6)"
      ]
     },
     "execution_count": 36,
     "metadata": {},
     "output_type": "execute_result"
    }
   ],
   "source": [
    "#Nearest Neighbors\n",
    "model1 = KNeighborsClassifier(n_neighbors=15)\n",
    "model1.fit(X_train,y_train)\n",
    "\n",
    "#Decision tree\n",
    "model2 = DecisionTreeClassifier(random_state = 6, max_depth = 2, min_samples_leaf = 0.04 , max_features = 0.4, class_weight='balanced')\n",
    "model2.fit(X_train,y_train)\n",
    "\n",
    "#SVC\n",
    "#model3 = SVC(kernel = 'linear', gamma= 1e-05)\n",
    "#model3.fit(X_train,y_train)"
   ]
  },
  {
   "cell_type": "markdown",
   "id": "0343e39a",
   "metadata": {},
   "source": [
    "# Gridsearch toepassen\n"
   ]
  },
  {
   "cell_type": "code",
   "execution_count": 37,
   "id": "43ab3334",
   "metadata": {},
   "outputs": [
    {
     "name": "stdout",
     "output_type": "stream",
     "text": [
      "{'class_weight': 'balanced', 'max_depth': 3, 'max_features': 0.6, 'min_samples_leaf': 0.04}\n"
     ]
    }
   ],
   "source": [
    "#tree_model_1 = KNeighborsClassifier()\n",
    "tree_model_2 = DecisionTreeClassifier(random_state=6)\n",
    "#tree_model_3 = SVC()\n",
    "# creating an array for different n_neighbours parameter\n",
    "#param_grid_model_1 = {'n_neighbors' : [ 6, 7, 8, 9, 10, 11, 12, 13, 14, 15, 16]}\n",
    "param_grid_model_2 = {'max_depth': [1, 2, 3, 4, 5, 6] , 'min_samples_leaf': [0.04, 0.06, 0.08, 0.1, 0.12], 'max_features': [0.2,0.4,0.6,0.8], 'class_weight': ['balanced']} \n",
    "#param_grid_model_3 = {'kernel': ['linear', 'rbf', 'poly'], 'gamma' : [0.1, 0.3, 0.7, 1, 1.5, 2, 5, 10] , 'C' : [0.1, 0.5, 1, 5, 10, 20]}\n",
    "#knn_cv = []\n",
    "\n",
    "#for i in range(10):\n",
    "tree = GridSearchCV(tree_model_2,param_grid_model_2)\n",
    "tree = tree.fit(X_train,y_train)\n",
    "print(tree.best_params_)\n",
    "#print(tree.best_score_)\n",
    "#print(\"Test accuracy of best grid search hypers:\", tree.score(X_test, y_test))"
   ]
  },
  {
   "cell_type": "code",
   "execution_count": 38,
   "id": "440e3341",
   "metadata": {},
   "outputs": [
    {
     "name": "stdout",
     "output_type": "stream",
     "text": [
      "Accuracy = 0.9151656013945381\n",
      "Precision = 0.5163636363636364\n",
      "Recall = 0.9161290322580645\n"
     ]
    }
   ],
   "source": [
    "Accuracy_nofilt =  tree.score(X_test,y_test)\n",
    "Precision_nofilt = precision_score(y_test,tree.predict(X_test))\n",
    "Recall_nofilt = recall_score(y_test,tree.predict(X_test))\n",
    "\n",
    "print(\"Accuracy = \" + str(Accuracy_nofilt))\n",
    "print(\"Precision = \" + str(Precision_nofilt))\n",
    "print(\"Recall = \" + str(Recall_nofilt))"
   ]
  },
  {
   "cell_type": "markdown",
   "id": "505a2a3f",
   "metadata": {},
   "source": [
    "# Validate/Tune Model\n",
    "\n",
    "Validate results of the model (Precision/Recall). Tune the parameters of the model to achieve better results"
   ]
  },
  {
   "cell_type": "code",
   "execution_count": 39,
   "id": "b45d9ad2",
   "metadata": {},
   "outputs": [
    {
     "name": "stderr",
     "output_type": "stream",
     "text": [
      "/opt/jupyterhub/anaconda/lib/python3.8/site-packages/sklearn/utils/deprecation.py:87: FutureWarning: Function plot_confusion_matrix is deprecated; Function `plot_confusion_matrix` is deprecated in 1.0 and will be removed in 1.2. Use one of the class methods: ConfusionMatrixDisplay.from_predictions or ConfusionMatrixDisplay.from_estimator.\n",
      "  warnings.warn(msg, category=FutureWarning)\n"
     ]
    },
    {
     "data": {
      "image/png": "[encoded data removed]",
      "text/plain": [
       "<Figure size 432x288 with 2 Axes>"
      ]
     },
     "metadata": {
      "needs_background": "light"
     },
     "output_type": "display_data"
    }
   ],
   "source": [
    "#GridsearchCV Polynomials\n",
    "plot_confusion_matrix(tree, X_test, y_test)\n",
    "plt.show()"
   ]
  },
  {
   "cell_type": "markdown",
   "id": "c10466c1",
   "metadata": {},
   "source": [
    "# Export Data\n",
    "\n",
    "Export the results in CSV format. Layout = Time,Action"
   ]
  },
  {
   "cell_type": "code",
   "execution_count": 40,
   "id": "bb695bbe",
   "metadata": {},
   "outputs": [],
   "source": [
    "X_test['Action'] = tree.predict(X_test)"
   ]
  },
  {
   "cell_type": "code",
   "execution_count": 41,
   "id": "122594c6",
   "metadata": {},
   "outputs": [],
   "source": [
    "y_test = y_test.to_frame()\n",
    "y_test = y_test.sort_index()"
   ]
  },
  {
   "cell_type": "code",
   "execution_count": 42,
   "id": "d5336c50",
   "metadata": {},
   "outputs": [
    {
     "data": {
      "text/plain": [
       "Int64Index([ 445,  544, 1656, 2083, 2183, 2191, 2208, 2210, 2221, 2227,\n",
       "            ...\n",
       "            7792, 7812, 7813, 7853, 7865, 7929, 8020, 8022, 8038, 8063],\n",
       "           dtype='int64', length=133)"
      ]
     },
     "execution_count": 42,
     "metadata": {},
     "output_type": "execute_result"
    }
   ],
   "source": [
    "X_test = X_test.sort_index()\n",
    "False_pos = X_test[X_test['Action'] != y_test['Action']]\n",
    "df_test = False_pos[(False_pos['Action'] == 1)]\n",
    "df_test.index"
   ]
  },
  {
   "cell_type": "code",
   "execution_count": 43,
   "id": "7ef4a0db",
   "metadata": {},
   "outputs": [
    {
     "data": {
      "text/html": [
       "<div>\n",
       "<style scoped>\n",
       "    .dataframe tbody tr th:only-of-type {\n",
       "        vertical-align: middle;\n",
       "    }\n",
       "\n",
       "    .dataframe tbody tr th {\n",
       "        vertical-align: top;\n",
       "    }\n",
       "\n",
       "    .dataframe thead th {\n",
       "        text-align: right;\n",
       "    }\n",
       "</style>\n",
       "<table border=\"1\" class=\"dataframe\">\n",
       "  <thead>\n",
       "    <tr style=\"text-align: right;\">\n",
       "      <th></th>\n",
       "      <th>Time</th>\n",
       "    </tr>\n",
       "  </thead>\n",
       "  <tbody>\n",
       "    <tr>\n",
       "      <th>0</th>\n",
       "      <td>445.0</td>\n",
       "    </tr>\n",
       "    <tr>\n",
       "      <th>1</th>\n",
       "      <td>544.0</td>\n",
       "    </tr>\n",
       "    <tr>\n",
       "      <th>2</th>\n",
       "      <td>1656.0</td>\n",
       "    </tr>\n",
       "    <tr>\n",
       "      <th>3</th>\n",
       "      <td>2083.0</td>\n",
       "    </tr>\n",
       "    <tr>\n",
       "      <th>4</th>\n",
       "      <td>2183.0</td>\n",
       "    </tr>\n",
       "    <tr>\n",
       "      <th>...</th>\n",
       "      <td>...</td>\n",
       "    </tr>\n",
       "    <tr>\n",
       "      <th>95</th>\n",
       "      <td>7853.0</td>\n",
       "    </tr>\n",
       "    <tr>\n",
       "      <th>96</th>\n",
       "      <td>7865.0</td>\n",
       "    </tr>\n",
       "    <tr>\n",
       "      <th>97</th>\n",
       "      <td>7929.0</td>\n",
       "    </tr>\n",
       "    <tr>\n",
       "      <th>98</th>\n",
       "      <td>8022.0</td>\n",
       "    </tr>\n",
       "    <tr>\n",
       "      <th>99</th>\n",
       "      <td>8038.0</td>\n",
       "    </tr>\n",
       "  </tbody>\n",
       "</table>\n",
       "<p>100 rows × 1 columns</p>\n",
       "</div>"
      ],
      "text/plain": [
       "      Time\n",
       "0    445.0\n",
       "1    544.0\n",
       "2   1656.0\n",
       "3   2083.0\n",
       "4   2183.0\n",
       "..     ...\n",
       "95  7853.0\n",
       "96  7865.0\n",
       "97  7929.0\n",
       "98  8022.0\n",
       "99  8038.0\n",
       "\n",
       "[100 rows x 1 columns]"
      ]
     },
     "execution_count": 43,
     "metadata": {},
     "output_type": "execute_result"
    }
   ],
   "source": [
    "Sprint = []\n",
    "for i in range(1,len(df_test['Action']),1):  #stappen van 2 \n",
    "    if df_test.index[i]-df_test.index[i-1] > 3:\n",
    "        Sprint.append(df_test.index[i-1]*(n/100))\n",
    "        \n",
    "Sprint = pd.DataFrame(Sprint,columns=['Time'])\n",
    "Sprint"
   ]
  },
  {
   "cell_type": "code",
   "execution_count": 44,
   "id": "3a60c26f",
   "metadata": {},
   "outputs": [],
   "source": [
    "#Sprint.to_csv('matrix_Player_' + str(Player) + '_game_' + str(Game) + '_FoundSprints.csv')"
   ]
  },
  {
   "cell_type": "code",
   "execution_count": null,
   "id": "20783d77",
   "metadata": {},
   "outputs": [],
   "source": []
  }
 ],
 "metadata": {
  "kernelspec": {
   "display_name": "Python 3 (ipykernel)",
   "language": "python",
   "name": "python3"
  },
  "language_info": {
   "codemirror_mode": {
    "name": "ipython",
    "version": 3
   },
   "file_extension": ".py",
   "mimetype": "text/x-python",
   "name": "python",
   "nbconvert_exporter": "python",
   "pygments_lexer": "ipython3",
   "version": "3.8.8"
  }
 },
 "nbformat": 4,
 "nbformat_minor": 5
}
